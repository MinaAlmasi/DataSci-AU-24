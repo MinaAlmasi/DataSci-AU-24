{
 "cells": [
  {
   "cell_type": "markdown",
   "metadata": {},
   "source": [
    "# Class 4 - Bias-variance trade-off and Decision Trees\n",
    "Yesterday, we introduce the notions of bias and variance, which quantify two dimensions of error in predictive modeling. We saw that:\n",
    "- *Bias* is the distance between the average of predictions made by a given model when trained on different training sets and the predictions made by the true model;\n",
    "- *Variance* is the variance of predictions made by a given model when trained on different training sets.\n",
    "\n",
    "Importantly, bias and variance are modulated by the complexity or flexibility of a model in different ways. As complexity/flexibility increases, bias tends to decrease, while variance increases.\n",
    "\n",
    "This is why we talk about a _bias-variance trade-off_: ideally, we want to minimize both sources of prediction error, but in practice, modeling decisions that lead to lower bias will also lead to higher variance (and viceversa).\n",
    "What we want to do when designing our model is to hit the optimal balance between bias and variance.\n",
    "\n",
    "Alongside this, we introduced **decision trees** as an additional modeling algorithm for both regression and classification.\n",
    "Decision trees are implemented in `scikit-learn`. You can check out this link for a brush-up of what they are with some examples: https://scikit-learn.org/stable/modules/tree.html. \n",
    "Classes for regression (`DecisionTreeRegressor`) and classification (`DecisionTreeClassifier`) are documented respectively at: https://scikit-learn.org/stable/modules/generated/sklearn.tree.DecisionTreeClassifier.html and https://scikit-learn.org/stable/modules/generated/sklearn.tree.DecisionTreeRegressor.html. \n",
    "We have discussed hyperparameters of decision trees that influence its complexity and flexibility (e.g., tree depth, minimum number of total samples per leaf), and discussed why flexibility matters for learning good decision trees.\n",
    "\n",
    "In this exercise, we will take a break from our attempt to model bike data (fear not, we will resume next week and combine all we have learned so far with tree-based bagging and boosting methods, which we will introduce next week).\n",
    "Our goal for today is see some of the notions we have introduced theoretically during our lecture in action, to get a better grasp of these complex notions.\n",
    "We will look at a practical example of how bias and variance are modulated by model flexibility, using a linear model and decision trees as a test case."
   ]
  },
  {
   "cell_type": "markdown",
   "metadata": {},
   "source": [
    "### Today's plan\n",
    "**Step 1** - Generating Data:\n",
    "1. Generate 1000 data points from a uniform distribution, using `numpy.random.uniform` (https://numpy.org/doc/stable/reference/random/generated/numpy.random.uniform.html). Set the minimum value to -10 and the maximum value to 10. This will be your $x$.\n",
    "2. Generate polynomial terms for x, using `sklearn.preprocessing.PolynomialFeatures` (https://scikit-learn.org/stable/modules/generated/sklearn.preprocessing.PolynomialFeatures.html)\n",
    "3. Generate 4 random coefficients $\\beta_{i}$ from a uniform distribution (same parameters as above)\n",
    "4. Generate an outcome variable using the following equation: $y = \\beta_{0} + \\beta_{1} * x + \\beta_{2} * x^2 + \\beta_{3} * x^3 $. To do so, you might find \n",
    "5. Add some Gaussian noise to your $y$ using `np.random.normal` (set the `scale` parameter to 10 to make this noise \"visible\", see https://numpy.org/doc/stable/reference/random/generated/numpy.random.normal.html)\n",
    "6. Plot the relation between $x$ and $y$\n",
    "7. Finally, split your data into two halves, a training and a test set, using sklearn's `train_test_split`\n",
    "\n",
    "**Step 2** - Compute squared bias and variance of linear models with increasing complexity:\n",
    "1. Compute average **squared bias**, **variance**, and **MSE** for a linear model that only uses *x* as input feature.\n",
    "    - To do so, you need to create a loop where you take random samples of the training data (1/2 the size of the training set), say, 100 times. This process is called **bootstrapping**.\n",
    "    - For each random split of the data:\n",
    "        - You fit a `LinearRegression` estimator on the sampled data\n",
    "        - You predict $\\hat{y}$ for all test data points\n",
    "        - You compute the average **squared** bias across all data points in the test set. To do so you need to:\n",
    "            1. Compute the average prediction of your bootstrapped models for each data point\n",
    "            2. Compute the difference between these values and the predictions of the true model for each data point\n",
    "            3. Take the squared value of that\n",
    "            4. Average across all data points\n",
    "            5. NOTE: we look at the average *squared* bias, because the bias of a single data point encodes information about the *directionality* of the error. If we averaged those values, we will underestimate models' tendency to make systematic errors.\n",
    "        - You compute the average variance of the predictions of bootstrapped models across all data points in the test set\n",
    "        - You compute the average MSE of your method (computing the average of MSEs of each bootstrapped model)\n",
    "2. Now that you know how to compute this, scale this up. Fit linear regressions with input features that include increasingly high polynomial expansions of your feature set (first only $x, x^2$, then $x, x^2, x^3$ and all the way up to $x,...,x^{10}$)\n",
    "3. Make a plot where you show how bias, variance and MSE change as a function of model complexity (i.e., how many polynomials you include)\n",
    "4. Look at the patterns emerging from the plot and discuss them with your group: what do you notice?\n",
    "\n",
    "**Bonus tasks**:\n",
    "- We have talked about decision trees in the lecture. Can you do minimal changes to the code above, to look at how bias and variance change as a function of the expected depth of a tree, or additional parameters related to the complexity of a decision tree? Use `DecisionTreeRegressor` (https://scikit-learn.org/stable/modules/generated/sklearn.tree.DecisionTreeRegressor.html) as an extractor, and loop over multiple values of `max_depth` (e.g., ranging from 1 to 20)\n",
    "- How do your results change as you manipulate parameters such as the the true generative model (e.g., its complexity), the size of bootstrapped data samples, etc?\n"
   ]
  },
  {
   "cell_type": "markdown",
   "metadata": {},
   "source": [
    "### Solutions\n",
    "As usual, you will find a solution in `example.ipynb`"
   ]
  },
  {
   "cell_type": "code",
   "execution_count": 53,
   "metadata": {},
   "outputs": [
    {
     "name": "stdout",
     "output_type": "stream",
     "text": [
      "Note: you may need to restart the kernel to use updated packages.\n"
     ]
    }
   ],
   "source": [
    "%pip install scikit-learn pandas numpy matplotlib seaborn --quiet"
   ]
  },
  {
   "cell_type": "code",
   "execution_count": 54,
   "metadata": {},
   "outputs": [],
   "source": [
    "import numpy as np\n",
    "import pandas as pd\n",
    "from sklearn.preprocessing import PolynomialFeatures\n",
    "import matplotlib.pyplot as plt\n",
    "import seaborn as sns\n",
    "from sklearn.model_selection import train_test_split \n",
    "from sklearn.linear_model import LinearRegression\n",
    "\n",
    "from sklearn.preprocessing import MinMaxScaler\n",
    "from sklearn.metrics import mean_squared_error"
   ]
  },
  {
   "cell_type": "markdown",
   "metadata": {},
   "source": [
    "## Step 1: Generating Data"
   ]
  },
  {
   "cell_type": "code",
   "execution_count": 55,
   "metadata": {},
   "outputs": [],
   "source": [
    "np.random.seed(2802)\n",
    "x_raw = np.random.uniform(low = -10, high= 10, size=(1000, 1))"
   ]
  },
  {
   "cell_type": "code",
   "execution_count": 71,
   "metadata": {},
   "outputs": [],
   "source": [
    "degree=3\n",
    "poly = PolynomialFeatures(degree=degree)\n",
    "X = poly.fit_transform(x_raw)"
   ]
  },
  {
   "cell_type": "code",
   "execution_count": 57,
   "metadata": {},
   "outputs": [
    {
     "data": {
      "text/plain": [
       "array([[ 1.00000000e+00,  6.63867006e+00,  4.40719401e+01, ...,\n",
       "         3.77266877e+06,  2.50455032e+07,  1.66268832e+08],\n",
       "       [ 1.00000000e+00,  6.22773703e+00,  3.87847085e+01, ...,\n",
       "         2.26277894e+06,  1.40919922e+07,  8.77612216e+07],\n",
       "       [ 1.00000000e+00,  3.53840263e+00,  1.25202931e+01, ...,\n",
       "         2.45729892e+04,  8.69491294e+04,  3.07661028e+05],\n",
       "       ...,\n",
       "       [ 1.00000000e+00,  8.71611642e+00,  7.59706855e+01, ...,\n",
       "         3.33107323e+07,  2.90340221e+08,  2.53063917e+09],\n",
       "       [ 1.00000000e+00, -2.92365106e+00,  8.54773554e+00, ...,\n",
       "         5.33831637e+03, -1.56073743e+04,  4.56305166e+04],\n",
       "       [ 1.00000000e+00, -8.98150882e+00,  8.06675007e+01, ...,\n",
       "         4.23442462e+07, -3.80315221e+08,  3.41580451e+09]])"
      ]
     },
     "execution_count": 57,
     "metadata": {},
     "output_type": "execute_result"
    }
   ],
   "source": [
    "X"
   ]
  },
  {
   "cell_type": "code",
   "execution_count": 58,
   "metadata": {},
   "outputs": [],
   "source": [
    "np.random.seed(2802)\n",
    "betas = np.random.uniform(low = -10, high = 10, size=(len(X[1]), ))"
   ]
  },
  {
   "cell_type": "code",
   "execution_count": 59,
   "metadata": {},
   "outputs": [
    {
     "name": "stdout",
     "output_type": "stream",
     "text": [
      "(1000,)\n",
      "[3.56093886e+08 1.46953144e+06 3.42955268e+02 8.02497072e+09\n",
      " 1.07994247e+09 5.73045974e+00 1.37332570e+10 2.41978387e+06\n",
      " 2.36703993e+10]\n"
     ]
    }
   ],
   "source": [
    "y_raw = np.dot(X, betas)\n",
    "print(y_raw.shape)\n",
    "print(y_raw[1:10])"
   ]
  },
  {
   "cell_type": "code",
   "execution_count": 60,
   "metadata": {},
   "outputs": [],
   "source": [
    "# define noise\n",
    "np.random.seed(2802)\n",
    "noise = np.random.normal(loc=0.0, scale=10, size=len(y_raw))"
   ]
  },
  {
   "cell_type": "code",
   "execution_count": 61,
   "metadata": {},
   "outputs": [
    {
     "name": "stdout",
     "output_type": "stream",
     "text": [
      "[3.56093890e+08 1.46953941e+06 3.60712867e+02 8.02497071e+09\n",
      " 1.07994247e+09 1.99284773e+00 1.37332570e+10 2.41978308e+06\n",
      " 2.36703993e+10]\n"
     ]
    }
   ],
   "source": [
    "# add noise to y\n",
    "y = y_raw + noise\n",
    "print(y[1:10])"
   ]
  },
  {
   "cell_type": "code",
   "execution_count": 62,
   "metadata": {},
   "outputs": [
    {
     "data": {
      "image/png": "[encoded data removed]",
      "text/plain": [
       "<Figure size 640x480 with 1 Axes>"
      ]
     },
     "metadata": {},
     "output_type": "display_data"
    }
   ],
   "source": [
    "# plot relation to x \n",
    "sns.scatterplot(x=x_raw[:,0], y=y)\n",
    "plt.show()"
   ]
  },
  {
   "cell_type": "code",
   "execution_count": 63,
   "metadata": {},
   "outputs": [],
   "source": [
    "# split data\n",
    "X_train, X_test, y_train, y_test = train_test_split(X, y, train_size=.5, random_state=2802)\n",
    "\n",
    "# get true predictions\n",
    "y_pred_true = np.dot(X_test, betas)"
   ]
  },
  {
   "cell_type": "markdown",
   "metadata": {},
   "source": [
    "## Step 2: Computing Squared Bias, Variance, MSE"
   ]
  },
  {
   "cell_type": "code",
   "execution_count": 64,
   "metadata": {},
   "outputs": [],
   "source": [
    "def bootstrap(X_train, y_train, X_test, y_test, y_pred_true, n_iterations=100, degree=1, model=LinearRegression()): \n",
    "    '''run bootstrapping for n iterations'''\n",
    "    # all preds \n",
    "    y_preds = []\n",
    "    \n",
    "    # select degree of polynomial\n",
    "    X_train = X_train[:, 0:degree+1]\n",
    "    X_test = X_test[:, 0:degree+1]\n",
    "    \n",
    "    # define split size \n",
    "    split_size = 0.5\n",
    "\n",
    "    for i in range(n_iterations): \n",
    "        # create random subset \n",
    "        X_train_subset, _, y_train_subset, _ = train_test_split(X_train, y_train, train_size=split_size)\n",
    "\n",
    "        # fit model\n",
    "        model.fit(X_train_subset, y_train_subset)\n",
    "\n",
    "        # get predictions, add to list\n",
    "        y_pred = model.predict(X_test)\n",
    "        y_preds.append(y_pred.reshape(-1, 1))\n",
    "\n",
    "    # convert predictons to proper array\n",
    "    y_preds = np.hstack(y_preds)\n",
    "\n",
    "    # compute average prediction\n",
    "    average_y_preds = np.mean(y_preds, axis=1)\n",
    "\n",
    "    # compute diff \n",
    "    y_preds_diff = y_pred_true - average_y_preds \n",
    "\n",
    "    # take squared diff \n",
    "    y_preds_diff_squared = np.square(y_preds_diff)\n",
    "\n",
    "    # compute bias\n",
    "    average_squared_bias = np.mean(y_preds_diff_squared)\n",
    "\n",
    "    # compute variance\n",
    "    average_variance = y_preds.var(axis=1).mean()\n",
    "\n",
    "    # compute \n",
    "    average_mse = np.mean([np.sqrt(mean_squared_error(y_test, y_preds[:,i])) for i in range(n_iterations)])\n",
    "\n",
    "    results = {\n",
    "        \"degree\":degree, \n",
    "        \"average_squared_bias\": average_squared_bias,\n",
    "        \"average_variance\": average_variance, \n",
    "        \"average_mse\": average_mse, \n",
    "    }\n",
    "    \n",
    "    return results"
   ]
  },
  {
   "cell_type": "code",
   "execution_count": 65,
   "metadata": {},
   "outputs": [],
   "source": [
    "# test function for one specified degree\n",
    "results = bootstrap( \n",
    "                        X_train = X_train, \n",
    "                        y_train = y_train, \n",
    "                        X_test = X_test, \n",
    "                        y_test = y_test, \n",
    "                        y_pred_true = y_pred_true, \n",
    "                        n_iterations = 100, \n",
    "                        degree = 2,\n",
    "                        model = LinearRegression()\n",
    "                                                    )  "
   ]
  },
  {
   "cell_type": "code",
   "execution_count": 66,
   "metadata": {},
   "outputs": [
    {
     "data": {
      "text/plain": [
       "{'degree': 2,\n",
       " 'average_squared_bias': 9.961014854286264e+18,\n",
       " 'average_variance': 1.485652080413e+17,\n",
       " 'average_mse': 3179306352.785806}"
      ]
     },
     "execution_count": 66,
     "metadata": {},
     "output_type": "execute_result"
    }
   ],
   "source": [
    "results"
   ]
  },
  {
   "cell_type": "code",
   "execution_count": 67,
   "metadata": {},
   "outputs": [],
   "source": [
    "def bootstrap_models(X_train, y_train, X_test, y_test, y_pred_true, n_iterations_per_degree=100, total_degrees=1, model=LinearRegression()):\n",
    "    '''bootstrap several mdls'''\n",
    "    all_results = []\n",
    "\n",
    "    for degree in range(total_degrees+1): \n",
    "        results = bootstrap(\n",
    "                    X_train = X_train,\n",
    "                    y_train = y_train, \n",
    "                    X_test = X_test, \n",
    "                    y_test = y_test, \n",
    "                    y_pred_true = y_pred_true,  \n",
    "                    n_iterations = 100, \n",
    "                    degree = degree,\n",
    "                    model = LinearRegression())  \n",
    "    \n",
    "        all_results.append(results)\n",
    "\n",
    "    all_results_df = pd.DataFrame(all_results)\n",
    "    \n",
    "    # Scale bias, variance, and MSE\n",
    "    scaler = MinMaxScaler()\n",
    "    for metric in [\"average_squared_bias\", \"average_variance\", \"average_mse\"]:\n",
    "        all_results_df[f\"scaled_{metric.split('_')[-1]}\"] = scaler.fit_transform(all_results_df[metric].values.reshape(-1, 1))\n",
    "\n",
    "    return all_results_df"
   ]
  },
  {
   "cell_type": "code",
   "execution_count": 68,
   "metadata": {},
   "outputs": [],
   "source": [
    "# test function for all degrees\n",
    "data = bootstrap_models( \n",
    "                        X_train = X_train, \n",
    "                        y_train = y_train, \n",
    "                        X_test = X_test, \n",
    "                        y_test = y_test, \n",
    "                        y_pred_true = y_pred_true, \n",
    "                        n_iterations_per_degree = 100, \n",
    "                        total_degrees = 3,\n",
    "                        model = LinearRegression()\n",
    "                                                    )  "
   ]
  },
  {
   "cell_type": "code",
   "execution_count": 69,
   "metadata": {},
   "outputs": [
    {
     "data": {
      "text/html": [
       "<div>\n",
       "<style scoped>\n",
       "    .dataframe tbody tr th:only-of-type {\n",
       "        vertical-align: middle;\n",
       "    }\n",
       "\n",
       "    .dataframe tbody tr th {\n",
       "        vertical-align: top;\n",
       "    }\n",
       "\n",
       "    .dataframe thead th {\n",
       "        text-align: right;\n",
       "    }\n",
       "</style>\n",
       "<table border=\"1\" class=\"dataframe\">\n",
       "  <thead>\n",
       "    <tr style=\"text-align: right;\">\n",
       "      <th></th>\n",
       "      <th>degree</th>\n",
       "      <th>average_squared_bias</th>\n",
       "      <th>average_variance</th>\n",
       "      <th>average_mse</th>\n",
       "      <th>scaled_bias</th>\n",
       "      <th>scaled_variance</th>\n",
       "      <th>scaled_mse</th>\n",
       "    </tr>\n",
       "  </thead>\n",
       "  <tbody>\n",
       "    <tr>\n",
       "      <th>0</th>\n",
       "      <td>0</td>\n",
       "      <td>2.469741e+19</td>\n",
       "      <td>3.729363e+16</td>\n",
       "      <td>4.973397e+09</td>\n",
       "      <td>1.000000</td>\n",
       "      <td>0.000000</td>\n",
       "      <td>1.000000</td>\n",
       "    </tr>\n",
       "    <tr>\n",
       "      <th>1</th>\n",
       "      <td>1</td>\n",
       "      <td>2.340453e+19</td>\n",
       "      <td>1.740878e+17</td>\n",
       "      <td>4.855593e+09</td>\n",
       "      <td>0.918669</td>\n",
       "      <td>0.807085</td>\n",
       "      <td>0.940281</td>\n",
       "    </tr>\n",
       "    <tr>\n",
       "      <th>2</th>\n",
       "      <td>2</td>\n",
       "      <td>9.965504e+18</td>\n",
       "      <td>1.396981e+17</td>\n",
       "      <td>3.178611e+09</td>\n",
       "      <td>0.073267</td>\n",
       "      <td>0.604185</td>\n",
       "      <td>0.090150</td>\n",
       "    </tr>\n",
       "    <tr>\n",
       "      <th>3</th>\n",
       "      <td>3</td>\n",
       "      <td>8.800816e+18</td>\n",
       "      <td>2.067854e+17</td>\n",
       "      <td>3.000780e+09</td>\n",
       "      <td>0.000000</td>\n",
       "      <td>1.000000</td>\n",
       "      <td>0.000000</td>\n",
       "    </tr>\n",
       "  </tbody>\n",
       "</table>\n",
       "</div>"
      ],
      "text/plain": [
       "   degree  average_squared_bias  average_variance   average_mse  scaled_bias  \\\n",
       "0       0          2.469741e+19      3.729363e+16  4.973397e+09     1.000000   \n",
       "1       1          2.340453e+19      1.740878e+17  4.855593e+09     0.918669   \n",
       "2       2          9.965504e+18      1.396981e+17  3.178611e+09     0.073267   \n",
       "3       3          8.800816e+18      2.067854e+17  3.000780e+09     0.000000   \n",
       "\n",
       "   scaled_variance  scaled_mse  \n",
       "0         0.000000    1.000000  \n",
       "1         0.807085    0.940281  \n",
       "2         0.604185    0.090150  \n",
       "3         1.000000    0.000000  "
      ]
     },
     "execution_count": 69,
     "metadata": {},
     "output_type": "execute_result"
    }
   ],
   "source": [
    "data"
   ]
  },
  {
   "cell_type": "code",
   "execution_count": 70,
   "metadata": {},
   "outputs": [
    {
     "data": {
      "image/png": "[encoded data removed]",
      "text/plain": [
       "<Figure size 640x480 with 1 Axes>"
      ]
     },
     "metadata": {},
     "output_type": "display_data"
    }
   ],
   "source": [
    "sns.lineplot(data=data, x='degree', y='scaled_bias', label='bias^2')\n",
    "sns.lineplot(data=data, x='degree', y='scaled_variance', label='variance', color='darkred')\n",
    "sns.lineplot(data=data, x='degree', y='scaled_mse', label='MSE', color='grey')\n",
    "plt.xlabel('max depth')\n",
    "plt.ylabel('rescaled value')\n",
    "plt.axvline(x=data.iloc[data['average_mse'].argmin()]['degree'], \n",
    "            linestyle='--',\n",
    "            color='grey')\n",
    "plt.show()"
   ]
  }
 ],
 "metadata": {
  "kernelspec": {
   "display_name": "Python 3",
   "language": "python",
   "name": "python3"
  },
  "language_info": {
   "codemirror_mode": {
    "name": "ipython",
    "version": 3
   },
   "file_extension": ".py",
   "mimetype": "text/x-python",
   "name": "python",
   "nbconvert_exporter": "python",
   "pygments_lexer": "ipython3",
   "version": "3.10.12"
  }
 },
 "nbformat": 4,
 "nbformat_minor": 2
}
