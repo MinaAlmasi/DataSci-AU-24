{
 "cells": [
  {
   "cell_type": "markdown",
   "metadata": {},
   "source": [
    "## Class 02"
   ]
  },
  {
   "cell_type": "code",
   "execution_count": 215,
   "metadata": {},
   "outputs": [
    {
     "name": "stdout",
     "output_type": "stream",
     "text": [
      "Defaulting to user installation because normal site-packages is not writeable\n",
      "Requirement already satisfied: pandas in /home/ucloud/.local/lib/python3.10/site-packages (2.2.0)\n",
      "Requirement already satisfied: matplotlib in /home/ucloud/.local/lib/python3.10/site-packages (3.8.3)\n",
      "Requirement already satisfied: seaborn in /home/ucloud/.local/lib/python3.10/site-packages (0.13.2)\n",
      "Requirement already satisfied: scikit-learn in /home/ucloud/.local/lib/python3.10/site-packages (1.4.1.post1)\n",
      "Requirement already satisfied: numpy in /home/ucloud/.local/lib/python3.10/site-packages (1.26.4)\n",
      "Requirement already satisfied: python-dateutil>=2.8.2 in /home/ucloud/.local/lib/python3.10/site-packages (from pandas) (2.8.2)\n",
      "Requirement already satisfied: pytz>=2020.1 in /home/ucloud/.local/lib/python3.10/site-packages (from pandas) (2024.1)\n",
      "Requirement already satisfied: tzdata>=2022.7 in /home/ucloud/.local/lib/python3.10/site-packages (from pandas) (2024.1)\n",
      "Requirement already satisfied: contourpy>=1.0.1 in /home/ucloud/.local/lib/python3.10/site-packages (from matplotlib) (1.2.0)\n",
      "Requirement already satisfied: cycler>=0.10 in /home/ucloud/.local/lib/python3.10/site-packages (from matplotlib) (0.12.1)\n",
      "Requirement already satisfied: fonttools>=4.22.0 in /home/ucloud/.local/lib/python3.10/site-packages (from matplotlib) (4.49.0)\n",
      "Requirement already satisfied: kiwisolver>=1.3.1 in /home/ucloud/.local/lib/python3.10/site-packages (from matplotlib) (1.4.5)\n",
      "Requirement already satisfied: packaging>=20.0 in /home/ucloud/.local/lib/python3.10/site-packages (from matplotlib) (23.2)\n",
      "Requirement already satisfied: pillow>=8 in /home/ucloud/.local/lib/python3.10/site-packages (from matplotlib) (10.2.0)\n",
      "Requirement already satisfied: pyparsing>=2.3.1 in /usr/lib/python3/dist-packages (from matplotlib) (2.4.7)\n",
      "Requirement already satisfied: scipy>=1.6.0 in /home/ucloud/.local/lib/python3.10/site-packages (from scikit-learn) (1.12.0)\n",
      "Requirement already satisfied: joblib>=1.2.0 in /home/ucloud/.local/lib/python3.10/site-packages (from scikit-learn) (1.3.2)\n",
      "Requirement already satisfied: threadpoolctl>=2.0.0 in /home/ucloud/.local/lib/python3.10/site-packages (from scikit-learn) (3.3.0)\n",
      "Requirement already satisfied: six>=1.5 in /usr/lib/python3/dist-packages (from python-dateutil>=2.8.2->pandas) (1.16.0)\n",
      "Note: you may need to restart the kernel to use updated packages.\n"
     ]
    }
   ],
   "source": [
    "# setup\n",
    "%pip install pandas matplotlib seaborn scikit-learn numpy"
   ]
  },
  {
   "cell_type": "code",
   "execution_count": 216,
   "metadata": {},
   "outputs": [],
   "source": [
    "import pathlib \n",
    "import pandas as pd \n",
    "import seaborn as sns\n",
    "import numpy as np\n",
    "from sklearn.metrics import mean_squared_error, r2_score\n",
    "from sklearn.linear_model import LinearRegression"
   ]
  },
  {
   "cell_type": "code",
   "execution_count": 217,
   "metadata": {},
   "outputs": [],
   "source": [
    "path = pathlib.Path.cwd()\n",
    "datapath = path.parents[4] / \"data\" / \"class_01\" / \"bikes.csv\"\n",
    "df = pd.read_csv(datapath)"
   ]
  },
  {
   "cell_type": "markdown",
   "metadata": {},
   "source": [
    "## EXERCISES\n",
    "1. Create a folder called `group-x` within `nbs/class_02`, `cd` into it and work within that today\n",
    "2. Choose an outcome variable for a regression problem. On the basis of this, define **which of the evaluation metrics** could be suitable. Evaluation metrics can be computed using scikit-learn: https://scikit-learn.org/stable/modules/model_evaluation.html#regression-metrics \n",
    "3. (a) If you are in the bike sharing group, split your dataset into a training/validation/test set using later time points as validation/test set. Validation and test set should be 15% of your data each. (b) If you are in the personality group, using sklearn's `train_test_split` function, create a 70/15/15 random split of your data.\n",
    "    - Remember to set a seed (`random_state`) when you do so. Let's all use the same (the classic `random_state=42`)\n",
    "    - Save these datasets as separate csv files in a subfolder called `data`\n",
    "4. Look at your outcome and predictors: do you want to transform them in any way?\n",
    "5. Estimate the performance of a dummy baseline (i.e., the mean model) on all splits\n",
    "6. Now look at your predictors: do they need any preprocessing? Any transformations? Removal of \"bad\" data points?\n",
    "7. Fit the other models using KKN (sklearn's `KNeighborsRegressor`: https://scikit-learn.org/stable/modules/generated/sklearn.neighbors.KNeighborsRegressor.html) and linear models (`LinearRegressor`: https://scikit-learn.org/stable/modules/generated/sklearn.linear_model.LinearRegression.html). Save the fitted model object (with a meaningful name) using `pickle` (https://scikit-learn.org/stable/model_persistence.html) in a subfolder called `model`.\n",
    "8. Once you are done, evaluate all models on both the training and the validation set and visualize the scores"
   ]
  },
  {
   "cell_type": "markdown",
   "metadata": {},
   "source": [
    "## 2. Creating an Outcome"
   ]
  },
  {
   "cell_type": "code",
   "execution_count": 218,
   "metadata": {},
   "outputs": [],
   "source": [
    "df[\"proportion_casual_reg\"] = df[\"casual\"]/df[\"cnt\"]"
   ]
  },
  {
   "cell_type": "markdown",
   "metadata": {},
   "source": [
    "Which evaluation metrics would be suitable? We'll chose R-squared as we are interested in a general metric on how good our model fits to the data and not necessarily interested in how our model fares on individual data points. Therefore it would not make sense to use RMSE/MSE as they are scale-dependent"
   ]
  },
  {
   "cell_type": "markdown",
   "metadata": {},
   "source": [
    "## 2.1 Transforming"
   ]
  },
  {
   "cell_type": "code",
   "execution_count": 219,
   "metadata": {},
   "outputs": [],
   "source": [
    "columns = [\"season\", \"mnth\", \"weekday\", \"weathersit\"]\n",
    "\n",
    "df = pd.get_dummies(df, columns=columns, prefix=columns, dtype=int)"
   ]
  },
  {
   "cell_type": "markdown",
   "metadata": {},
   "source": [
    "## 3. Splitting our data"
   ]
  },
  {
   "cell_type": "code",
   "execution_count": 220,
   "metadata": {},
   "outputs": [],
   "source": [
    "len_df = len(df)\n",
    "\n",
    "# define the split percentage\n",
    "split_size = 0.15\n",
    "\n",
    "# get the absolute number of rows that equals to our split size (use int to rm. decimal)\n",
    "n_rows = int(len_df * split_size)\n",
    "\n",
    "# define test\n",
    "test_df = df.iloc[-n_rows:, :]\n",
    "\n",
    "# define train and val combined\n",
    "train_val_df = df.iloc[:-n_rows, :]\n",
    "\n",
    "# subset train from only the train and val \n",
    "train_df = train_val_df.iloc[:-n_rows, :]\n",
    "\n",
    "# subset val from only the train and val\n",
    "val_df = train_val_df.iloc[-n_rows:, :]"
   ]
  },
  {
   "cell_type": "code",
   "execution_count": 221,
   "metadata": {},
   "outputs": [],
   "source": [
    "# save dataset\n",
    "save_path = path.parents[2] / \"nbs\" / \"class_02\" / \"group-RMDS\" / \"data\"\n",
    "save_path.mkdir(parents=True, exist_ok=True)\n",
    "\n",
    "train_df.to_csv(save_path / \"train_bikes.csv\", index=False)\n",
    "val_df.to_csv(save_path / \"val_bikes.csv\", index=False)\n",
    "test_df.to_csv(save_path / \"test_bikes.csv\", index=False)"
   ]
  },
  {
   "cell_type": "code",
   "execution_count": 222,
   "metadata": {},
   "outputs": [],
   "source": [
    "# split into predictors and features\n",
    "predictors = [\"proportion_casual_reg\", \"registered\", \"casual\", \"cnt\", \"dteday\"]\n",
    "X_train = train_df.drop(predictors, axis=1)\n",
    "y_train = train_df[\"proportion_casual_reg\"].values\n",
    "\n",
    "X_val = val_df.drop(predictors, axis=1)\n",
    "y_val = val_df[\"proportion_casual_reg\"].values\n",
    "\n",
    "X_test = test_df.drop(predictors, axis=1)\n",
    "y_test = test_df[\"proportion_casual_reg\"].values"
   ]
  },
  {
   "cell_type": "markdown",
   "metadata": {},
   "source": [
    "## 5. Dummy Model"
   ]
  },
  {
   "cell_type": "code",
   "execution_count": 223,
   "metadata": {},
   "outputs": [],
   "source": [
    "dummy_performances = []\n",
    "\n",
    "mean_value = y_train.mean()\n",
    "model_name = 'dummy'\n",
    "\n",
    "for y, nsplit in zip([y_train, y_val, y_test],\n",
    "                    ['train', 'val', 'test']):\n",
    "    performance = np.sqrt(mean_squared_error(y, \n",
    "                                             [mean_value]*y.shape[0]))\n",
    "    r2 = r2_score(y, [mean_value]*y.shape[0])\n",
    "    dummy_performances.append({'model': model_name,\n",
    "                         'split': nsplit,\n",
    "                         'rmse': performance.round(4),\n",
    "                         'r2': r2.round(4)})"
   ]
  },
  {
   "cell_type": "code",
   "execution_count": 224,
   "metadata": {},
   "outputs": [
    {
     "data": {
      "text/plain": [
       "[{'model': 'dummy', 'split': 'train', 'rmse': 0.1426, 'r2': 0.0},\n",
       " {'model': 'dummy', 'split': 'val', 'rmse': 0.1224, 'r2': -0.0753},\n",
       " {'model': 'dummy', 'split': 'test', 'rmse': 0.12, 'r2': -0.0734}]"
      ]
     },
     "execution_count": 224,
     "metadata": {},
     "output_type": "execute_result"
    }
   ],
   "source": [
    "dummy_performances"
   ]
  },
  {
   "cell_type": "code",
   "execution_count": 225,
   "metadata": {},
   "outputs": [
    {
     "data": {
      "text/html": [
       "<div>\n",
       "<style scoped>\n",
       "    .dataframe tbody tr th:only-of-type {\n",
       "        vertical-align: middle;\n",
       "    }\n",
       "\n",
       "    .dataframe tbody tr th {\n",
       "        vertical-align: top;\n",
       "    }\n",
       "\n",
       "    .dataframe thead th {\n",
       "        text-align: right;\n",
       "    }\n",
       "</style>\n",
       "<table border=\"1\" class=\"dataframe\">\n",
       "  <thead>\n",
       "    <tr style=\"text-align: right;\">\n",
       "      <th></th>\n",
       "      <th>instant</th>\n",
       "      <th>yr</th>\n",
       "      <th>hr</th>\n",
       "      <th>holiday</th>\n",
       "      <th>workingday</th>\n",
       "      <th>temp</th>\n",
       "      <th>atemp</th>\n",
       "      <th>hum</th>\n",
       "      <th>windspeed</th>\n",
       "      <th>season_1</th>\n",
       "      <th>...</th>\n",
       "      <th>weekday_1</th>\n",
       "      <th>weekday_2</th>\n",
       "      <th>weekday_3</th>\n",
       "      <th>weekday_4</th>\n",
       "      <th>weekday_5</th>\n",
       "      <th>weekday_6</th>\n",
       "      <th>weathersit_1</th>\n",
       "      <th>weathersit_2</th>\n",
       "      <th>weathersit_3</th>\n",
       "      <th>weathersit_4</th>\n",
       "    </tr>\n",
       "  </thead>\n",
       "  <tbody>\n",
       "    <tr>\n",
       "      <th>0</th>\n",
       "      <td>1</td>\n",
       "      <td>0</td>\n",
       "      <td>0</td>\n",
       "      <td>0</td>\n",
       "      <td>0</td>\n",
       "      <td>0.24</td>\n",
       "      <td>0.2879</td>\n",
       "      <td>0.81</td>\n",
       "      <td>0.0000</td>\n",
       "      <td>1</td>\n",
       "      <td>...</td>\n",
       "      <td>0</td>\n",
       "      <td>0</td>\n",
       "      <td>0</td>\n",
       "      <td>0</td>\n",
       "      <td>0</td>\n",
       "      <td>1</td>\n",
       "      <td>1</td>\n",
       "      <td>0</td>\n",
       "      <td>0</td>\n",
       "      <td>0</td>\n",
       "    </tr>\n",
       "    <tr>\n",
       "      <th>1</th>\n",
       "      <td>2</td>\n",
       "      <td>0</td>\n",
       "      <td>1</td>\n",
       "      <td>0</td>\n",
       "      <td>0</td>\n",
       "      <td>0.22</td>\n",
       "      <td>0.2727</td>\n",
       "      <td>0.80</td>\n",
       "      <td>0.0000</td>\n",
       "      <td>1</td>\n",
       "      <td>...</td>\n",
       "      <td>0</td>\n",
       "      <td>0</td>\n",
       "      <td>0</td>\n",
       "      <td>0</td>\n",
       "      <td>0</td>\n",
       "      <td>1</td>\n",
       "      <td>1</td>\n",
       "      <td>0</td>\n",
       "      <td>0</td>\n",
       "      <td>0</td>\n",
       "    </tr>\n",
       "    <tr>\n",
       "      <th>2</th>\n",
       "      <td>3</td>\n",
       "      <td>0</td>\n",
       "      <td>2</td>\n",
       "      <td>0</td>\n",
       "      <td>0</td>\n",
       "      <td>0.22</td>\n",
       "      <td>0.2727</td>\n",
       "      <td>0.80</td>\n",
       "      <td>0.0000</td>\n",
       "      <td>1</td>\n",
       "      <td>...</td>\n",
       "      <td>0</td>\n",
       "      <td>0</td>\n",
       "      <td>0</td>\n",
       "      <td>0</td>\n",
       "      <td>0</td>\n",
       "      <td>1</td>\n",
       "      <td>1</td>\n",
       "      <td>0</td>\n",
       "      <td>0</td>\n",
       "      <td>0</td>\n",
       "    </tr>\n",
       "    <tr>\n",
       "      <th>3</th>\n",
       "      <td>4</td>\n",
       "      <td>0</td>\n",
       "      <td>3</td>\n",
       "      <td>0</td>\n",
       "      <td>0</td>\n",
       "      <td>0.24</td>\n",
       "      <td>0.2879</td>\n",
       "      <td>0.75</td>\n",
       "      <td>0.0000</td>\n",
       "      <td>1</td>\n",
       "      <td>...</td>\n",
       "      <td>0</td>\n",
       "      <td>0</td>\n",
       "      <td>0</td>\n",
       "      <td>0</td>\n",
       "      <td>0</td>\n",
       "      <td>1</td>\n",
       "      <td>1</td>\n",
       "      <td>0</td>\n",
       "      <td>0</td>\n",
       "      <td>0</td>\n",
       "    </tr>\n",
       "    <tr>\n",
       "      <th>4</th>\n",
       "      <td>5</td>\n",
       "      <td>0</td>\n",
       "      <td>4</td>\n",
       "      <td>0</td>\n",
       "      <td>0</td>\n",
       "      <td>0.24</td>\n",
       "      <td>0.2879</td>\n",
       "      <td>0.75</td>\n",
       "      <td>0.0000</td>\n",
       "      <td>1</td>\n",
       "      <td>...</td>\n",
       "      <td>0</td>\n",
       "      <td>0</td>\n",
       "      <td>0</td>\n",
       "      <td>0</td>\n",
       "      <td>0</td>\n",
       "      <td>1</td>\n",
       "      <td>1</td>\n",
       "      <td>0</td>\n",
       "      <td>0</td>\n",
       "      <td>0</td>\n",
       "    </tr>\n",
       "    <tr>\n",
       "      <th>...</th>\n",
       "      <td>...</td>\n",
       "      <td>...</td>\n",
       "      <td>...</td>\n",
       "      <td>...</td>\n",
       "      <td>...</td>\n",
       "      <td>...</td>\n",
       "      <td>...</td>\n",
       "      <td>...</td>\n",
       "      <td>...</td>\n",
       "      <td>...</td>\n",
       "      <td>...</td>\n",
       "      <td>...</td>\n",
       "      <td>...</td>\n",
       "      <td>...</td>\n",
       "      <td>...</td>\n",
       "      <td>...</td>\n",
       "      <td>...</td>\n",
       "      <td>...</td>\n",
       "      <td>...</td>\n",
       "      <td>...</td>\n",
       "      <td>...</td>\n",
       "    </tr>\n",
       "    <tr>\n",
       "      <th>12162</th>\n",
       "      <td>12163</td>\n",
       "      <td>1</td>\n",
       "      <td>23</td>\n",
       "      <td>0</td>\n",
       "      <td>0</td>\n",
       "      <td>0.70</td>\n",
       "      <td>0.6667</td>\n",
       "      <td>0.74</td>\n",
       "      <td>0.2537</td>\n",
       "      <td>0</td>\n",
       "      <td>...</td>\n",
       "      <td>0</td>\n",
       "      <td>0</td>\n",
       "      <td>0</td>\n",
       "      <td>0</td>\n",
       "      <td>0</td>\n",
       "      <td>1</td>\n",
       "      <td>1</td>\n",
       "      <td>0</td>\n",
       "      <td>0</td>\n",
       "      <td>0</td>\n",
       "    </tr>\n",
       "    <tr>\n",
       "      <th>12163</th>\n",
       "      <td>12164</td>\n",
       "      <td>1</td>\n",
       "      <td>0</td>\n",
       "      <td>0</td>\n",
       "      <td>0</td>\n",
       "      <td>0.68</td>\n",
       "      <td>0.6364</td>\n",
       "      <td>0.69</td>\n",
       "      <td>0.1642</td>\n",
       "      <td>0</td>\n",
       "      <td>...</td>\n",
       "      <td>0</td>\n",
       "      <td>0</td>\n",
       "      <td>0</td>\n",
       "      <td>0</td>\n",
       "      <td>0</td>\n",
       "      <td>0</td>\n",
       "      <td>0</td>\n",
       "      <td>1</td>\n",
       "      <td>0</td>\n",
       "      <td>0</td>\n",
       "    </tr>\n",
       "    <tr>\n",
       "      <th>12164</th>\n",
       "      <td>12165</td>\n",
       "      <td>1</td>\n",
       "      <td>1</td>\n",
       "      <td>0</td>\n",
       "      <td>0</td>\n",
       "      <td>0.66</td>\n",
       "      <td>0.6212</td>\n",
       "      <td>0.74</td>\n",
       "      <td>0.2239</td>\n",
       "      <td>0</td>\n",
       "      <td>...</td>\n",
       "      <td>0</td>\n",
       "      <td>0</td>\n",
       "      <td>0</td>\n",
       "      <td>0</td>\n",
       "      <td>0</td>\n",
       "      <td>0</td>\n",
       "      <td>1</td>\n",
       "      <td>0</td>\n",
       "      <td>0</td>\n",
       "      <td>0</td>\n",
       "    </tr>\n",
       "    <tr>\n",
       "      <th>12165</th>\n",
       "      <td>12166</td>\n",
       "      <td>1</td>\n",
       "      <td>2</td>\n",
       "      <td>0</td>\n",
       "      <td>0</td>\n",
       "      <td>0.64</td>\n",
       "      <td>0.6061</td>\n",
       "      <td>0.73</td>\n",
       "      <td>0.2239</td>\n",
       "      <td>0</td>\n",
       "      <td>...</td>\n",
       "      <td>0</td>\n",
       "      <td>0</td>\n",
       "      <td>0</td>\n",
       "      <td>0</td>\n",
       "      <td>0</td>\n",
       "      <td>0</td>\n",
       "      <td>1</td>\n",
       "      <td>0</td>\n",
       "      <td>0</td>\n",
       "      <td>0</td>\n",
       "    </tr>\n",
       "    <tr>\n",
       "      <th>12166</th>\n",
       "      <td>12167</td>\n",
       "      <td>1</td>\n",
       "      <td>3</td>\n",
       "      <td>0</td>\n",
       "      <td>0</td>\n",
       "      <td>0.64</td>\n",
       "      <td>0.6061</td>\n",
       "      <td>0.73</td>\n",
       "      <td>0.1642</td>\n",
       "      <td>0</td>\n",
       "      <td>...</td>\n",
       "      <td>0</td>\n",
       "      <td>0</td>\n",
       "      <td>0</td>\n",
       "      <td>0</td>\n",
       "      <td>0</td>\n",
       "      <td>0</td>\n",
       "      <td>1</td>\n",
       "      <td>0</td>\n",
       "      <td>0</td>\n",
       "      <td>0</td>\n",
       "    </tr>\n",
       "  </tbody>\n",
       "</table>\n",
       "<p>12167 rows × 36 columns</p>\n",
       "</div>"
      ],
      "text/plain": [
       "       instant  yr  hr  holiday  workingday  temp   atemp   hum  windspeed  \\\n",
       "0            1   0   0        0           0  0.24  0.2879  0.81     0.0000   \n",
       "1            2   0   1        0           0  0.22  0.2727  0.80     0.0000   \n",
       "2            3   0   2        0           0  0.22  0.2727  0.80     0.0000   \n",
       "3            4   0   3        0           0  0.24  0.2879  0.75     0.0000   \n",
       "4            5   0   4        0           0  0.24  0.2879  0.75     0.0000   \n",
       "...        ...  ..  ..      ...         ...   ...     ...   ...        ...   \n",
       "12162    12163   1  23        0           0  0.70  0.6667  0.74     0.2537   \n",
       "12163    12164   1   0        0           0  0.68  0.6364  0.69     0.1642   \n",
       "12164    12165   1   1        0           0  0.66  0.6212  0.74     0.2239   \n",
       "12165    12166   1   2        0           0  0.64  0.6061  0.73     0.2239   \n",
       "12166    12167   1   3        0           0  0.64  0.6061  0.73     0.1642   \n",
       "\n",
       "       season_1  ...  weekday_1  weekday_2  weekday_3  weekday_4  weekday_5  \\\n",
       "0             1  ...          0          0          0          0          0   \n",
       "1             1  ...          0          0          0          0          0   \n",
       "2             1  ...          0          0          0          0          0   \n",
       "3             1  ...          0          0          0          0          0   \n",
       "4             1  ...          0          0          0          0          0   \n",
       "...         ...  ...        ...        ...        ...        ...        ...   \n",
       "12162         0  ...          0          0          0          0          0   \n",
       "12163         0  ...          0          0          0          0          0   \n",
       "12164         0  ...          0          0          0          0          0   \n",
       "12165         0  ...          0          0          0          0          0   \n",
       "12166         0  ...          0          0          0          0          0   \n",
       "\n",
       "       weekday_6  weathersit_1  weathersit_2  weathersit_3  weathersit_4  \n",
       "0              1             1             0             0             0  \n",
       "1              1             1             0             0             0  \n",
       "2              1             1             0             0             0  \n",
       "3              1             1             0             0             0  \n",
       "4              1             1             0             0             0  \n",
       "...          ...           ...           ...           ...           ...  \n",
       "12162          1             1             0             0             0  \n",
       "12163          0             0             1             0             0  \n",
       "12164          0             1             0             0             0  \n",
       "12165          0             1             0             0             0  \n",
       "12166          0             1             0             0             0  \n",
       "\n",
       "[12167 rows x 36 columns]"
      ]
     },
     "execution_count": 225,
     "metadata": {},
     "output_type": "execute_result"
    }
   ],
   "source": [
    "X_train"
   ]
  },
  {
   "cell_type": "markdown",
   "metadata": {},
   "source": [
    "## 7. Fit the other models \n",
    " ```\n",
    "    - Model 0 (dummy baseline): Always predict the average of Y in the training data\n",
    "    - Model 1: Predict based on a linear model with `instant` as the only predictor\n",
    "    - Model 2: Model including weather info (temperature, windspeed) and temporal parameters (e.g., `season`, `weekday`) as predictors\n",
    "    - Model 3: A \"kitchen sink\" model, will all predictors included\n",
    "```"
   ]
  },
  {
   "cell_type": "code",
   "execution_count": 226,
   "metadata": {},
   "outputs": [
    {
     "data": {
      "text/plain": [
       "PosixPath('/work/code/models')"
      ]
     },
     "execution_count": 226,
     "metadata": {},
     "output_type": "execute_result"
    }
   ],
   "source": [
    "models_savepath = path.parents[3] / \"models\"\n",
    "models_savepath"
   ]
  },
  {
   "cell_type": "markdown",
   "metadata": {},
   "source": [
    "### Model 1"
   ]
  },
  {
   "cell_type": "code",
   "execution_count": 227,
   "metadata": {},
   "outputs": [],
   "source": [
    "instant_predictor = X_train[\"instant\"].to_numpy().reshape(-1, 1)"
   ]
  },
  {
   "cell_type": "code",
   "execution_count": 228,
   "metadata": {},
   "outputs": [],
   "source": [
    "reg = LinearRegression().fit(instant_predictor, y_train)"
   ]
  },
  {
   "cell_type": "code",
   "execution_count": 229,
   "metadata": {},
   "outputs": [],
   "source": [
    "instant_performances = []\n",
    "\n",
    "for x,y,nsplit in zip([X_train, X_val, X_test],\n",
    "                    [y_train, y_val, y_test],\n",
    "                    ['train', 'val', 'test']):\n",
    "    preds = reg.predict(x[\"instant\"].to_numpy().reshape(-1, 1))\n",
    "    r2 = r2_score(y, preds)\n",
    "    performance = np.sqrt(mean_squared_error(y, preds))\n",
    "    instant_performances.append({'model': 'instant_mdl',\n",
    "                         'split': nsplit,\n",
    "                         'rmse': performance.round(4),\n",
    "                         'r2': r2.round(4)})"
   ]
  },
  {
   "cell_type": "code",
   "execution_count": 230,
   "metadata": {},
   "outputs": [
    {
     "data": {
      "text/plain": [
       "[{'model': 'instant_mdl', 'split': 'train', 'rmse': 0.1295, 'r2': 0.1751},\n",
       " {'model': 'instant_mdl', 'split': 'val', 'rmse': 0.1178, 'r2': 0.004},\n",
       " {'model': 'instant_mdl', 'split': 'test', 'rmse': 0.1108, 'r2': 0.0854}]"
      ]
     },
     "execution_count": 230,
     "metadata": {},
     "output_type": "execute_result"
    }
   ],
   "source": [
    "performances"
   ]
  },
  {
   "cell_type": "markdown",
   "metadata": {},
   "source": [
    "## Model 2"
   ]
  },
  {
   "cell_type": "code",
   "execution_count": 231,
   "metadata": {},
   "outputs": [],
   "source": [
    "weather_cols = [\"temp\", \"hum\", \"season_1\", \"season_2\", \"season_3\", \"season_4\"]\n",
    "weather_preds = X_train[weather_cols].values"
   ]
  },
  {
   "cell_type": "code",
   "execution_count": 232,
   "metadata": {},
   "outputs": [],
   "source": [
    "reg = LinearRegression().fit(weather_preds, y_train)"
   ]
  },
  {
   "cell_type": "code",
   "execution_count": 233,
   "metadata": {},
   "outputs": [
    {
     "data": {
      "text/plain": [
       "array([ 2.80266911e-01, -7.55509182e-02,  1.36805133e+11,  1.36805133e+11,\n",
       "        1.36805133e+11,  1.36805133e+11])"
      ]
     },
     "execution_count": 233,
     "metadata": {},
     "output_type": "execute_result"
    }
   ],
   "source": [
    "reg.coef_"
   ]
  },
  {
   "cell_type": "code",
   "execution_count": 234,
   "metadata": {},
   "outputs": [],
   "source": [
    "weather_performances = []\n",
    "\n",
    "for x,y,nsplit in zip([X_train, X_val, X_test],\n",
    "                    [y_train, y_val, y_test],\n",
    "                    ['train', 'val', 'test']):\n",
    "    preds = reg.predict(x[weather_cols].to_numpy())\n",
    "    r2 = r2_score(y, preds)\n",
    "    performance = np.sqrt(mean_squared_error(y, preds))\n",
    "    weather_performances.append({'model': 'weather_mdl',\n",
    "                         'split': nsplit,\n",
    "                         'rmse': performance.round(4),\n",
    "                         'r2': r2.round(4)})"
   ]
  },
  {
   "cell_type": "code",
   "execution_count": 235,
   "metadata": {},
   "outputs": [
    {
     "data": {
      "text/plain": [
       "[{'model': 'weather_mdl', 'split': 'train', 'rmse': 0.1287, 'r2': 0.1857},\n",
       " {'model': 'weather_mdl', 'split': 'val', 'rmse': 0.1167, 'r2': 0.0224},\n",
       " {'model': 'weather_mdl', 'split': 'test', 'rmse': 0.1088, 'r2': 0.1178}]"
      ]
     },
     "execution_count": 235,
     "metadata": {},
     "output_type": "execute_result"
    }
   ],
   "source": [
    "weather_performances"
   ]
  },
  {
   "cell_type": "code",
   "execution_count": 236,
   "metadata": {},
   "outputs": [],
   "source": [
    "all_performances = []\n",
    "all_performances.extend(dummy_performances)"
   ]
  },
  {
   "cell_type": "code",
   "execution_count": 237,
   "metadata": {},
   "outputs": [],
   "source": [
    "all_performances.extend(instant_performances)\n",
    "all_performances.extend(weather_performances)"
   ]
  },
  {
   "cell_type": "code",
   "execution_count": 238,
   "metadata": {},
   "outputs": [],
   "source": [
    "perf_df = pd.DataFrame(all_performances)"
   ]
  },
  {
   "cell_type": "code",
   "execution_count": 239,
   "metadata": {},
   "outputs": [
    {
     "data": {
      "text/plain": [
       "<Axes: xlabel='rmse', ylabel='model'>"
      ]
     },
     "execution_count": 239,
     "metadata": {},
     "output_type": "execute_result"
    },
    {
     "data": {
      "image/png": "[encoded data removed]",
      "text/plain": [
       "<Figure size 640x480 with 1 Axes>"
      ]
     },
     "metadata": {},
     "output_type": "display_data"
    }
   ],
   "source": [
    "sns.set_style('whitegrid')\n",
    "sns.scatterplot(data=perf_df.sort_values(by='rmse', ascending=False), \n",
    "                y='model', \n",
    "                x='rmse', \n",
    "                marker='s', \n",
    "                hue='split', palette=['darkorange', 'grey', 'darkred'])"
   ]
  },
  {
   "cell_type": "code",
   "execution_count": 240,
   "metadata": {},
   "outputs": [
    {
     "data": {
      "text/plain": [
       "<Axes: xlabel='r2', ylabel='model'>"
      ]
     },
     "execution_count": 240,
     "metadata": {},
     "output_type": "execute_result"
    },
    {
     "data": {
      "image/png": "[encoded data removed]",
      "text/plain": [
       "<Figure size 640x480 with 1 Axes>"
      ]
     },
     "metadata": {},
     "output_type": "display_data"
    }
   ],
   "source": [
    "sns.scatterplot(data=perf_df.sort_values(by='r2', ascending=True), \n",
    "                y='model', \n",
    "                x='r2', \n",
    "                marker='s', \n",
    "                hue='split', palette=['darkred', 'darkorange', 'grey'])"
   ]
  }
 ],
 "metadata": {
  "kernelspec": {
   "display_name": "Python 3",
   "language": "python",
   "name": "python3"
  },
  "language_info": {
   "codemirror_mode": {
    "name": "ipython",
    "version": 3
   },
   "file_extension": ".py",
   "mimetype": "text/x-python",
   "name": "python",
   "nbconvert_exporter": "python",
   "pygments_lexer": "ipython3",
   "version": "3.10.12"
  }
 },
 "nbformat": 4,
 "nbformat_minor": 2
}
